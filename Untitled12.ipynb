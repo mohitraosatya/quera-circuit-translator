{
  "nbformat": 4,
  "nbformat_minor": 0,
  "metadata": {
    "colab": {
      "provenance": [],
      "authorship_tag": "ABX9TyNd7S56wy3JjYUP/rmWGuhJ",
      "include_colab_link": true
    },
    "kernelspec": {
      "name": "python3",
      "display_name": "Python 3"
    },
    "language_info": {
      "name": "python"
    }
  },
  "cells": [
    {
      "cell_type": "markdown",
      "metadata": {
        "id": "view-in-github",
        "colab_type": "text"
      },
      "source": [
        "<a href=\"https://colab.research.google.com/github/mohitraosatya/quera-circuit-translator/blob/main/Untitled12.ipynb\" target=\"_parent\"><img src=\"https://colab.research.google.com/assets/colab-badge.svg\" alt=\"Open In Colab\"/></a>"
      ]
    },
    {
      "cell_type": "code",
      "execution_count": 1,
      "metadata": {
        "colab": {
          "base_uri": "https://localhost:8080/"
        },
        "id": "k76QUK7mgYm2",
        "outputId": "a483af66-3e00-4944-f3ba-1962e160649b"
      },
      "outputs": [
        {
          "output_type": "stream",
          "name": "stdout",
          "text": [
            "Requirement already satisfied: bloqade in /usr/local/lib/python3.11/dist-packages (0.22.4)\n",
            "Requirement already satisfied: kirin-toolchain~=0.14.0 in /usr/local/lib/python3.11/dist-packages (from bloqade) (0.14.3)\n",
            "Requirement already satisfied: numpy>=1.22.0 in /usr/local/lib/python3.11/dist-packages (from bloqade) (1.26.4)\n",
            "Requirement already satisfied: pandas>=2.2.3 in /usr/local/lib/python3.11/dist-packages (from bloqade) (2.2.3)\n",
            "Requirement already satisfied: pydantic>=1.3.0 in /usr/local/lib/python3.11/dist-packages (from bloqade) (2.10.6)\n",
            "Requirement already satisfied: rich>=13.9.4 in /usr/local/lib/python3.11/dist-packages (from bloqade) (13.9.4)\n",
            "Requirement already satisfied: scipy>=1.13.1 in /usr/local/lib/python3.11/dist-packages (from bloqade) (1.14.1)\n",
            "Requirement already satisfied: beartype>=0.17.2 in /usr/local/lib/python3.11/dist-packages (from kirin-toolchain~=0.14.0->bloqade) (0.20.0)\n",
            "Requirement already satisfied: typing-extensions>=4.11.0 in /usr/local/lib/python3.11/dist-packages (from kirin-toolchain~=0.14.0->bloqade) (4.12.2)\n",
            "Requirement already satisfied: python-dateutil>=2.8.2 in /usr/local/lib/python3.11/dist-packages (from pandas>=2.2.3->bloqade) (2.8.2)\n",
            "Requirement already satisfied: pytz>=2020.1 in /usr/local/lib/python3.11/dist-packages (from pandas>=2.2.3->bloqade) (2025.1)\n",
            "Requirement already satisfied: tzdata>=2022.7 in /usr/local/lib/python3.11/dist-packages (from pandas>=2.2.3->bloqade) (2025.1)\n",
            "Requirement already satisfied: annotated-types>=0.6.0 in /usr/local/lib/python3.11/dist-packages (from pydantic>=1.3.0->bloqade) (0.7.0)\n",
            "Requirement already satisfied: pydantic-core==2.27.2 in /usr/local/lib/python3.11/dist-packages (from pydantic>=1.3.0->bloqade) (2.27.2)\n",
            "Requirement already satisfied: markdown-it-py>=2.2.0 in /usr/local/lib/python3.11/dist-packages (from rich>=13.9.4->bloqade) (3.0.0)\n",
            "Requirement already satisfied: pygments<3.0.0,>=2.13.0 in /usr/local/lib/python3.11/dist-packages (from rich>=13.9.4->bloqade) (2.18.0)\n",
            "Requirement already satisfied: mdurl~=0.1 in /usr/local/lib/python3.11/dist-packages (from markdown-it-py>=2.2.0->rich>=13.9.4->bloqade) (0.1.2)\n",
            "Requirement already satisfied: six>=1.5 in /usr/local/lib/python3.11/dist-packages (from python-dateutil>=2.8.2->pandas>=2.2.3->bloqade) (1.17.0)\n",
            "Requirement already satisfied: qiskit in /usr/local/lib/python3.11/dist-packages (1.4.1)\n",
            "Requirement already satisfied: rustworkx>=0.15.0 in /usr/local/lib/python3.11/dist-packages (from qiskit) (0.16.0)\n",
            "Requirement already satisfied: numpy<3,>=1.17 in /usr/local/lib/python3.11/dist-packages (from qiskit) (1.26.4)\n",
            "Requirement already satisfied: scipy>=1.5 in /usr/local/lib/python3.11/dist-packages (from qiskit) (1.14.1)\n",
            "Requirement already satisfied: sympy>=1.3 in /usr/local/lib/python3.11/dist-packages (from qiskit) (1.13.1)\n",
            "Requirement already satisfied: dill>=0.3 in /usr/local/lib/python3.11/dist-packages (from qiskit) (0.3.9)\n",
            "Requirement already satisfied: python-dateutil>=2.8.0 in /usr/local/lib/python3.11/dist-packages (from qiskit) (2.8.2)\n",
            "Requirement already satisfied: stevedore>=3.0.0 in /usr/local/lib/python3.11/dist-packages (from qiskit) (5.4.1)\n",
            "Requirement already satisfied: typing-extensions in /usr/local/lib/python3.11/dist-packages (from qiskit) (4.12.2)\n",
            "Requirement already satisfied: symengine<0.14,>=0.11 in /usr/local/lib/python3.11/dist-packages (from qiskit) (0.13.0)\n",
            "Requirement already satisfied: six>=1.5 in /usr/local/lib/python3.11/dist-packages (from python-dateutil>=2.8.0->qiskit) (1.17.0)\n",
            "Requirement already satisfied: pbr>=2.0.0 in /usr/local/lib/python3.11/dist-packages (from stevedore>=3.0.0->qiskit) (6.1.1)\n",
            "Requirement already satisfied: mpmath<1.4,>=1.1.0 in /usr/local/lib/python3.11/dist-packages (from sympy>=1.3->qiskit) (1.3.0)\n",
            "Requirement already satisfied: setuptools in /usr/local/lib/python3.11/dist-packages (from pbr>=2.0.0->stevedore>=3.0.0->qiskit) (75.1.0)\n"
          ]
        }
      ],
      "source": [
        "!pip install bloqade\n",
        "!pip install qiskit"
      ]
    },
    {
      "cell_type": "code",
      "source": [
        "from qiskit import QuantumCircuit\n",
        "import numpy as np\n",
        "import matplotlib.pyplot as plt\n",
        "import networkx as nx"
      ],
      "metadata": {
        "id": "vkG1ZiDBgda2"
      },
      "execution_count": 2,
      "outputs": []
    },
    {
      "cell_type": "code",
      "source": [
        "def optimize_atom_placement(qc):\n",
        "    \"\"\"\n",
        "    Optimizes atom placement in a 2D array based on circuit connectivity.\n",
        "\n",
        "    Args:\n",
        "        qc (QuantumCircuit): A Qiskit quantum circuit object.\n",
        "\n",
        "    Returns:\n",
        "        dict: A mapping of qubit indices to atom coordinates.\n",
        "        dict: A mapping of Qiskit's qubit objects to numerical indices.\n",
        "    \"\"\"\n",
        "    num_qubits = qc.num_qubits\n",
        "    graph = nx.Graph()\n",
        "\n",
        "    # Correct way to get qubit indices\n",
        "    qubit_indices = {q: idx for idx, q in enumerate(qc.qubits)}\n",
        "\n",
        "    # Add nodes to graph\n",
        "    for i in range(num_qubits):\n",
        "        graph.add_node(i)\n",
        "\n",
        "    # Add edges for CNOTs\n",
        "    for instr in qc.data:\n",
        "        if instr.operation.name == 'cx':\n",
        "            q1, q2 = [qubit_indices[q] for q in instr.qubits]  # ✅ Fixed method\n",
        "            graph.add_edge(q1, q2)\n",
        "\n",
        "    # Compute optimal placement using a force-directed graph layout\n",
        "    pos = nx.spring_layout(graph, seed=42)\n",
        "\n",
        "    # Convert to Bloqade-compatible positions (scale for visibility)\n",
        "    atom_positions = {qubit: (pos[qubit][0] * 10, pos[qubit][1] * 10) for qubit in pos}\n",
        "\n",
        "    return atom_positions, qubit_indices\n"
      ],
      "metadata": {
        "id": "hWf5TPoYrxuY"
      },
      "execution_count": 3,
      "outputs": []
    },
    {
      "cell_type": "code",
      "source": [
        "def plot_atom_layout(atom_positions):\n",
        "    \"\"\"\n",
        "    Plots the optimized atom layout in a 2D plane.\n",
        "\n",
        "    Args:\n",
        "        atom_positions (dict): Mapping of qubit indices to (x, y) coordinates.\n",
        "    \"\"\"\n",
        "    fig, ax = plt.subplots(figsize=(6, 6))\n",
        "\n",
        "    for qubit, (x, y) in atom_positions.items():\n",
        "        ax.scatter(x, y, color='blue', s=200)\n",
        "        ax.text(x, y, str(qubit), fontsize=12, ha='center', va='center', color='white')\n",
        "\n",
        "    ax.set_title(\"Optimized Atom Placement for Circuit Execution\")\n",
        "    ax.set_xlabel(\"X Position\")\n",
        "    ax.set_ylabel(\"Y Position\")\n",
        "    plt.grid(True)\n",
        "    plt.show()\n"
      ],
      "metadata": {
        "id": "TAxvqupXr0UZ"
      },
      "execution_count": 4,
      "outputs": []
    },
    {
      "cell_type": "code",
      "source": [
        "qc = QuantumCircuit(3)\n",
        "qc.h(0)\n",
        "qc.cx(0, 1)\n",
        "qc.cx(1, 2)\n",
        "qc.rz(np.pi/4, 0)\n",
        "\n",
        "print(\"Quantum Circuit:\")\n",
        "print(qc.draw())  # Print circuit diagram\n"
      ],
      "metadata": {
        "colab": {
          "base_uri": "https://localhost:8080/"
        },
        "id": "Z088U1tOsCYH",
        "outputId": "eee016dd-6c1d-4635-dcea-2e39ceee7270"
      },
      "execution_count": 5,
      "outputs": [
        {
          "output_type": "stream",
          "name": "stdout",
          "text": [
            "Quantum Circuit:\n",
            "     ┌───┐     ┌─────────┐\n",
            "q_0: ┤ H ├──■──┤ Rz(π/4) ├\n",
            "     └───┘┌─┴─┐└─────────┘\n",
            "q_1: ─────┤ X ├─────■─────\n",
            "          └───┘   ┌─┴─┐   \n",
            "q_2: ─────────────┤ X ├───\n",
            "                  └───┘   \n"
          ]
        }
      ]
    },
    {
      "cell_type": "code",
      "source": [
        "atom_positions, qubit_indices = optimize_atom_placement(qc)\n",
        "plot_atom_layout(atom_positions)"
      ],
      "metadata": {
        "colab": {
          "base_uri": "https://localhost:8080/",
          "height": 564
        },
        "id": "FkR5MSk4sEhU",
        "outputId": "4f2e78af-3c1b-4b2d-b8fe-3680f99aac28"
      },
      "execution_count": 6,
      "outputs": [
        {
          "output_type": "display_data",
          "data": {
            "text/plain": [
              "<Figure size 600x600 with 1 Axes>"
            ],
            "image/png": "[encoded data removed]"
          },
          "metadata": {}
        }
      ]
    },
    {
      "cell_type": "code",
      "source": [
        "bloqade_code = \"using Bloqade\\n\\n# Define neutral atom layout\\natoms = AtomArray([\\n\"\n",
        "\n",
        "for qubit, (x, y) in atom_positions.items():\n",
        "    bloqade_code += f\"    ({x:.2f}, {y:.2f}),  # Atom {qubit} at ({x:.2f}, {y:.2f})\\n\"\n",
        "\n",
        "bloqade_code += \"])\\n\\n# Define pulses corresponding to circuit translation\\nsequence = PulseSequence()\\n\"\n",
        "\n",
        "for instr in qc.data:\n",
        "    operation = instr.operation\n",
        "    qubits = [qubit_indices[q] for q in instr.qubits]  # ✅ Now this works\n",
        "\n",
        "    if operation.name == 'h':\n",
        "        bloqade_code += f\"sequence += Hadamard({qubits[0]})\\n\"\n",
        "    elif operation.name == 'cx':\n",
        "        bloqade_code += f\"sequence += BlockadeCNOT({qubits[0]}, {qubits[1]})\\n\"\n",
        "    elif operation.name == 'rz':\n",
        "        theta = operation.params[0]\n",
        "        bloqade_code += f\"sequence += PhaseShift({qubits[0]}, {theta})\\n\"\n",
        "\n",
        "bloqade_code += \"\\n# Run simulation\\nsimulate(sequence, atoms)\\n\"\n",
        "\n",
        "print(\"Generated Bloqade Code:\\n\")\n",
        "print(bloqade_code)\n"
      ],
      "metadata": {
        "colab": {
          "base_uri": "https://localhost:8080/"
        },
        "id": "YL-emKyosJt1",
        "outputId": "357fff00-cef0-40a4-fa94-7dacb720cbfb"
      },
      "execution_count": 7,
      "outputs": [
        {
          "output_type": "stream",
          "name": "stdout",
          "text": [
            "Generated Bloqade Code:\n",
            "\n",
            "using Bloqade\n",
            "\n",
            "# Define neutral atom layout\n",
            "atoms = AtomArray([\n",
            "    (1.29, 9.99),  # Atom 0 at (1.29, 9.99)\n",
            "    (0.00, 0.01),  # Atom 1 at (0.00, 0.01)\n",
            "    (-1.29, -10.00),  # Atom 2 at (-1.29, -10.00)\n",
            "])\n",
            "\n",
            "# Define pulses corresponding to circuit translation\n",
            "sequence = PulseSequence()\n",
            "sequence += Hadamard(0)\n",
            "sequence += BlockadeCNOT(0, 1)\n",
            "sequence += BlockadeCNOT(1, 2)\n",
            "sequence += PhaseShift(0, 0.7853981633974483)\n",
            "\n",
            "# Run simulation\n",
            "simulate(sequence, atoms)\n",
            "\n"
          ]
        }
      ]
    },
    {
      "cell_type": "code",
      "source": [
        "with open(\"optimized_layout.bloqade\", \"w\") as f:\n",
        "    f.write(bloqade_code)\n",
        "\n",
        "print(\"Optimized atom placement saved as 'optimized_layout.bloqade' for Bloqade execution!\")"
      ],
      "metadata": {
        "colab": {
          "base_uri": "https://localhost:8080/"
        },
        "id": "hlYvBZ6HsNqJ",
        "outputId": "60e4b63a-110b-45a7-94e9-d638ed2515f4"
      },
      "execution_count": 8,
      "outputs": [
        {
          "output_type": "stream",
          "name": "stdout",
          "text": [
            "Optimized atom placement saved as 'optimized_layout.bloqade' for Bloqade execution!\n"
          ]
        }
      ]
    }
  ]
}