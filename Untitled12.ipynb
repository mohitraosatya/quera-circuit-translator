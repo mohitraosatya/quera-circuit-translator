{
  "nbformat": 4,
  "nbformat_minor": 0,
  "metadata": {
    "colab": {
      "provenance": [],
      "authorship_tag": "ABX9TyPmBdLOsWBKC2csv0q45v8R",
      "include_colab_link": true
    },
    "kernelspec": {
      "name": "python3",
      "display_name": "Python 3"
    },
    "language_info": {
      "name": "python"
    }
  },
  "cells": [
    {
      "cell_type": "markdown",
      "metadata": {
        "id": "view-in-github",
        "colab_type": "text"
      },
      "source": [
        "<a href=\"https://colab.research.google.com/github/mohitraosatya/quera-circuit-translator/blob/main/Untitled12.ipynb\" target=\"_parent\"><img src=\"https://colab.research.google.com/assets/colab-badge.svg\" alt=\"Open In Colab\"/></a>"
      ]
    },
    {
      "cell_type": "code",
      "execution_count": 3,
      "metadata": {
        "colab": {
          "base_uri": "https://localhost:8080/"
        },
        "id": "k76QUK7mgYm2",
        "outputId": "3f515122-cb21-4474-ccb1-dea4aaa4759b"
      },
      "outputs": [
        {
          "output_type": "stream",
          "name": "stdout",
          "text": [
            "Requirement already satisfied: bloqade in /usr/local/lib/python3.11/dist-packages (0.22.4)\n",
            "Requirement already satisfied: kirin-toolchain~=0.14.0 in /usr/local/lib/python3.11/dist-packages (from bloqade) (0.14.3)\n",
            "Requirement already satisfied: numpy>=1.22.0 in /usr/local/lib/python3.11/dist-packages (from bloqade) (1.26.4)\n",
            "Requirement already satisfied: pandas>=2.2.3 in /usr/local/lib/python3.11/dist-packages (from bloqade) (2.2.3)\n",
            "Requirement already satisfied: pydantic>=1.3.0 in /usr/local/lib/python3.11/dist-packages (from bloqade) (2.10.6)\n",
            "Requirement already satisfied: rich>=13.9.4 in /usr/local/lib/python3.11/dist-packages (from bloqade) (13.9.4)\n",
            "Requirement already satisfied: scipy>=1.13.1 in /usr/local/lib/python3.11/dist-packages (from bloqade) (1.14.1)\n",
            "Requirement already satisfied: beartype>=0.17.2 in /usr/local/lib/python3.11/dist-packages (from kirin-toolchain~=0.14.0->bloqade) (0.20.0)\n",
            "Requirement already satisfied: typing-extensions>=4.11.0 in /usr/local/lib/python3.11/dist-packages (from kirin-toolchain~=0.14.0->bloqade) (4.12.2)\n",
            "Requirement already satisfied: python-dateutil>=2.8.2 in /usr/local/lib/python3.11/dist-packages (from pandas>=2.2.3->bloqade) (2.8.2)\n",
            "Requirement already satisfied: pytz>=2020.1 in /usr/local/lib/python3.11/dist-packages (from pandas>=2.2.3->bloqade) (2025.1)\n",
            "Requirement already satisfied: tzdata>=2022.7 in /usr/local/lib/python3.11/dist-packages (from pandas>=2.2.3->bloqade) (2025.1)\n",
            "Requirement already satisfied: annotated-types>=0.6.0 in /usr/local/lib/python3.11/dist-packages (from pydantic>=1.3.0->bloqade) (0.7.0)\n",
            "Requirement already satisfied: pydantic-core==2.27.2 in /usr/local/lib/python3.11/dist-packages (from pydantic>=1.3.0->bloqade) (2.27.2)\n",
            "Requirement already satisfied: markdown-it-py>=2.2.0 in /usr/local/lib/python3.11/dist-packages (from rich>=13.9.4->bloqade) (3.0.0)\n",
            "Requirement already satisfied: pygments<3.0.0,>=2.13.0 in /usr/local/lib/python3.11/dist-packages (from rich>=13.9.4->bloqade) (2.18.0)\n",
            "Requirement already satisfied: mdurl~=0.1 in /usr/local/lib/python3.11/dist-packages (from markdown-it-py>=2.2.0->rich>=13.9.4->bloqade) (0.1.2)\n",
            "Requirement already satisfied: six>=1.5 in /usr/local/lib/python3.11/dist-packages (from python-dateutil>=2.8.2->pandas>=2.2.3->bloqade) (1.17.0)\n",
            "Collecting qiskit\n",
            "  Using cached qiskit-1.4.1-cp39-abi3-manylinux_2_17_x86_64.manylinux2014_x86_64.whl.metadata (12 kB)\n",
            "Collecting rustworkx>=0.15.0 (from qiskit)\n",
            "  Using cached rustworkx-0.16.0-cp39-abi3-manylinux_2_17_x86_64.manylinux2014_x86_64.whl.metadata (10 kB)\n",
            "Requirement already satisfied: numpy<3,>=1.17 in /usr/local/lib/python3.11/dist-packages (from qiskit) (1.26.4)\n",
            "Requirement already satisfied: scipy>=1.5 in /usr/local/lib/python3.11/dist-packages (from qiskit) (1.14.1)\n",
            "Requirement already satisfied: sympy>=1.3 in /usr/local/lib/python3.11/dist-packages (from qiskit) (1.13.1)\n",
            "Collecting dill>=0.3 (from qiskit)\n",
            "  Using cached dill-0.3.9-py3-none-any.whl.metadata (10 kB)\n",
            "Requirement already satisfied: python-dateutil>=2.8.0 in /usr/local/lib/python3.11/dist-packages (from qiskit) (2.8.2)\n",
            "Collecting stevedore>=3.0.0 (from qiskit)\n",
            "  Using cached stevedore-5.4.1-py3-none-any.whl.metadata (2.3 kB)\n",
            "Requirement already satisfied: typing-extensions in /usr/local/lib/python3.11/dist-packages (from qiskit) (4.12.2)\n",
            "Collecting symengine<0.14,>=0.11 (from qiskit)\n",
            "  Using cached symengine-0.13.0-cp311-cp311-manylinux_2_17_x86_64.manylinux2014_x86_64.whl.metadata (1.2 kB)\n",
            "Requirement already satisfied: six>=1.5 in /usr/local/lib/python3.11/dist-packages (from python-dateutil>=2.8.0->qiskit) (1.17.0)\n",
            "Collecting pbr>=2.0.0 (from stevedore>=3.0.0->qiskit)\n",
            "  Using cached pbr-6.1.1-py2.py3-none-any.whl.metadata (3.4 kB)\n",
            "Requirement already satisfied: mpmath<1.4,>=1.1.0 in /usr/local/lib/python3.11/dist-packages (from sympy>=1.3->qiskit) (1.3.0)\n",
            "Requirement already satisfied: setuptools in /usr/local/lib/python3.11/dist-packages (from pbr>=2.0.0->stevedore>=3.0.0->qiskit) (75.1.0)\n",
            "Downloading qiskit-1.4.1-cp39-abi3-manylinux_2_17_x86_64.manylinux2014_x86_64.whl (6.7 MB)\n",
            "\u001b[2K   \u001b[90m━━━━━━━━━━━━━━━━━━━━━━━━━━━━━━━━━━━━━━━━\u001b[0m \u001b[32m6.7/6.7 MB\u001b[0m \u001b[31m40.4 MB/s\u001b[0m eta \u001b[36m0:00:00\u001b[0m\n",
            "\u001b[?25hDownloading dill-0.3.9-py3-none-any.whl (119 kB)\n",
            "\u001b[2K   \u001b[90m━━━━━━━━━━━━━━━━━━━━━━━━━━━━━━━━━━━━━━━━\u001b[0m \u001b[32m119.4/119.4 kB\u001b[0m \u001b[31m11.9 MB/s\u001b[0m eta \u001b[36m0:00:00\u001b[0m\n",
            "\u001b[?25hDownloading rustworkx-0.16.0-cp39-abi3-manylinux_2_17_x86_64.manylinux2014_x86_64.whl (2.1 MB)\n",
            "\u001b[2K   \u001b[90m━━━━━━━━━━━━━━━━━━━━━━━━━━━━━━━━━━━━━━━━\u001b[0m \u001b[32m2.1/2.1 MB\u001b[0m \u001b[31m80.8 MB/s\u001b[0m eta \u001b[36m0:00:00\u001b[0m\n",
            "\u001b[?25hDownloading stevedore-5.4.1-py3-none-any.whl (49 kB)\n",
            "\u001b[2K   \u001b[90m━━━━━━━━━━━━━━━━━━━━━━━━━━━━━━━━━━━━━━━━\u001b[0m \u001b[32m49.5/49.5 kB\u001b[0m \u001b[31m4.9 MB/s\u001b[0m eta \u001b[36m0:00:00\u001b[0m\n",
            "\u001b[?25hDownloading symengine-0.13.0-cp311-cp311-manylinux_2_17_x86_64.manylinux2014_x86_64.whl (49.7 MB)\n",
            "\u001b[2K   \u001b[90m━━━━━━━━━━━━━━━━━━━━━━━━━━━━━━━━━━━━━━━━\u001b[0m \u001b[32m49.7/49.7 MB\u001b[0m \u001b[31m17.2 MB/s\u001b[0m eta \u001b[36m0:00:00\u001b[0m\n",
            "\u001b[?25hDownloading pbr-6.1.1-py2.py3-none-any.whl (108 kB)\n",
            "\u001b[2K   \u001b[90m━━━━━━━━━━━━━━━━━━━━━━━━━━━━━━━━━━━━━━━━\u001b[0m \u001b[32m109.0/109.0 kB\u001b[0m \u001b[31m11.2 MB/s\u001b[0m eta \u001b[36m0:00:00\u001b[0m\n",
            "\u001b[?25hInstalling collected packages: symengine, rustworkx, pbr, dill, stevedore, qiskit\n",
            "Successfully installed dill-0.3.9 pbr-6.1.1 qiskit-1.4.1 rustworkx-0.16.0 stevedore-5.4.1 symengine-0.13.0\n"
          ]
        }
      ],
      "source": [
        "!pip install bloqade\n",
        "!pip install qiskit"
      ]
    },
    {
      "cell_type": "code",
      "source": [
        "from qiskit import QuantumCircuit\n",
        "import numpy as np"
      ],
      "metadata": {
        "id": "vkG1ZiDBgda2"
      },
      "execution_count": 11,
      "outputs": []
    },
    {
      "cell_type": "code",
      "source": [
        "def parse_qiskit_circuit(qc):\n",
        "    translation = []  # Store translated operations\n",
        "\n",
        "    for instr in qc.data:\n",
        "        operation = instr.operation\n",
        "        # Find qubit index using find_bit\n",
        "        qubits = [qc.find_bit(q)[0] for q in instr.qubits]\n",
        "\n",
        "        if operation.name == 'h':\n",
        "            translation.append(f\"Apply Hadamard-like pulse to atom {qubits[0]}\")\n",
        "        elif operation.name == 'cx':\n",
        "            translation.append(f\"Use Rydberg blockade for CNOT between atoms {qubits[0]} and {qubits[1]}\")\n",
        "        elif operation.name == 'rz':\n",
        "            theta = operation.params[0]\n",
        "            translation.append(f\"Apply phase shift of {theta} to atom {qubits[0]}\")\n",
        "\n",
        "    return translation"
      ],
      "metadata": {
        "id": "LlcDcXXPgff5"
      },
      "execution_count": 15,
      "outputs": []
    },
    {
      "cell_type": "code",
      "source": [
        "qc = QuantumCircuit(2)\n",
        "qc.h(0)\n",
        "qc.cx(0, 1)\n",
        "qc.rz(np.pi/4, 0)\n",
        "\n",
        "print(qc.draw())  # Print circuit diagram\n"
      ],
      "metadata": {
        "colab": {
          "base_uri": "https://localhost:8080/"
        },
        "id": "EHQL33ErhUMn",
        "outputId": "ead57009-d08b-4ea4-e69f-c025e97f0449"
      },
      "execution_count": 16,
      "outputs": [
        {
          "output_type": "stream",
          "name": "stdout",
          "text": [
            "     ┌───┐     ┌─────────┐\n",
            "q_0: ┤ H ├──■──┤ Rz(π/4) ├\n",
            "     └───┘┌─┴─┐└─────────┘\n",
            "q_1: ─────┤ X ├───────────\n",
            "          └───┘           \n"
          ]
        }
      ]
    },
    {
      "cell_type": "code",
      "source": [
        "translated_ops = parse_qiskit_circuit(qc)\n",
        "print(\"\\nTranslated Operations for Bloqade Execution:\")\n",
        "for op in translated_ops:\n",
        "    print(op)\n"
      ],
      "metadata": {
        "colab": {
          "base_uri": "https://localhost:8080/"
        },
        "id": "Mp7zLvuohVkk",
        "outputId": "e97f5842-1742-4730-e046-82b7c3d2ed67"
      },
      "execution_count": 17,
      "outputs": [
        {
          "output_type": "stream",
          "name": "stdout",
          "text": [
            "\n",
            "Translated Operations for Bloqade Execution:\n",
            "Apply Hadamard-like pulse to atom 0\n",
            "Use Rydberg blockade for CNOT between atoms 0 and 1\n",
            "Apply phase shift of 0.7853981633974483 to atom 0\n"
          ]
        }
      ]
    },
    {
      "cell_type": "code",
      "source": [
        "bloqade_code = f\"\"\"\n",
        "using Bloqade\n",
        "\n",
        "# Define neutral atom layout\n",
        "atoms = AtomArray([\n",
        "    (0, 0),  # Atom 0 at (0,0)\n",
        "    (0, 5)   # Atom 1 at (0,5)\n",
        "])\n",
        "\n",
        "# Define pulses corresponding to circuit translation\n",
        "sequence = PulseSequence()\n",
        "sequence += Hadamard(0)  # Simulating Hadamard gate\n",
        "sequence += BlockadeCNOT(0, 1)  # Simulating CNOT using Rydberg blockade\n",
        "sequence += PhaseShift(0, {np.pi/4})  # Phase shift simulation\n",
        "\n",
        "# Run simulation\n",
        "simulate(sequence, atoms)\n",
        "\"\"\"\n",
        "\n",
        "print(\"Generated Bloqade Code:\\n\")\n",
        "print(bloqade_code)\n"
      ],
      "metadata": {
        "colab": {
          "base_uri": "https://localhost:8080/"
        },
        "id": "gfojn5tOjGMB",
        "outputId": "9df387d7-a7db-49fc-831a-d1c9a6e25bc5"
      },
      "execution_count": 18,
      "outputs": [
        {
          "output_type": "stream",
          "name": "stdout",
          "text": [
            "Generated Bloqade Code:\n",
            "\n",
            "\n",
            "using Bloqade\n",
            "\n",
            "# Define neutral atom layout\n",
            "atoms = AtomArray([\n",
            "    (0, 0),  # Atom 0 at (0,0)\n",
            "    (0, 5)   # Atom 1 at (0,5)\n",
            "])\n",
            "\n",
            "# Define pulses corresponding to circuit translation\n",
            "sequence = PulseSequence()\n",
            "sequence += Hadamard(0)  # Simulating Hadamard gate\n",
            "sequence += BlockadeCNOT(0, 1)  # Simulating CNOT using Rydberg blockade\n",
            "sequence += PhaseShift(0, 0.7853981633974483)  # Phase shift simulation\n",
            "\n",
            "# Run simulation\n",
            "simulate(sequence, atoms)\n",
            "\n"
          ]
        }
      ]
    },
    {
      "cell_type": "code",
      "source": [
        "with open(\"translated_code.bloqade\", \"w\") as f:\n",
        "    f.write(bloqade_code)\n",
        "\n",
        "print(\"Quantum circuit translated and saved as 'translated_code.bloqade' for Bloqade execution!\")\n"
      ],
      "metadata": {
        "colab": {
          "base_uri": "https://localhost:8080/"
        },
        "id": "8ebIdhfPjH4F",
        "outputId": "5b785a4d-9c6e-49c0-f712-e3f4c59fb0bb"
      },
      "execution_count": 19,
      "outputs": [
        {
          "output_type": "stream",
          "name": "stdout",
          "text": [
            "Quantum circuit translated and saved as 'translated_code.bloqade' for Bloqade execution!\n"
          ]
        }
      ]
    }
  ]
}